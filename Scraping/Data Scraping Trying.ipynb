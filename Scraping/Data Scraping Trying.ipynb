{
 "cells": [
  {
   "cell_type": "code",
   "execution_count": 1,
   "id": "ea2cd383-c529-4e8c-b448-27f45ad23961",
   "metadata": {},
   "outputs": [],
   "source": [
    "from selenium import webdriver\n",
    "from selenium.webdriver.common.by import By\n",
    "from selenium.webdriver.support.ui import Select\n",
    "from bs4 import BeautifulSoup\n",
    "import pandas as pd\n",
    "import os"
   ]
  },
  {
   "cell_type": "markdown",
   "id": "2c30fd15-869a-453d-9e89-77ecc7e8179c",
   "metadata": {},
   "source": [
    "### Trying Export Data Scraping"
   ]
  },
  {
   "cell_type": "code",
   "execution_count": 28,
   "id": "5c9a6ae9-fa70-4815-92be-25c9bd8db741",
   "metadata": {},
   "outputs": [],
   "source": [
    "browser = webdriver.Chrome()\n",
    "browser.get(\"https://agriexchange.apeda.gov.in/IndExp/PortNew.aspx\")"
   ]
  },
  {
   "cell_type": "code",
   "execution_count": 29,
   "id": "dd12bc0f-43a4-4430-8100-9732ff6f715f",
   "metadata": {},
   "outputs": [],
   "source": [
    "product_element = browser.find_element(By.ID, \"RBLSummary_3\")\n",
    "product_element.click()"
   ]
  },
  {
   "cell_type": "code",
   "execution_count": 31,
   "id": "d10e00b5-8be5-4dc0-9885-8f27b8ecd598",
   "metadata": {},
   "outputs": [],
   "source": [
    "year_element = browser.find_element(By.ID, \"ListBoxYear\")\n",
    "year_dropdown = Select(year_element)\n",
    "year_dropdown.select_by_visible_text(\"2022-23\")"
   ]
  },
  {
   "cell_type": "code",
   "execution_count": 32,
   "id": "392beb2a-8316-46cd-9b2a-9ea94c4aa605",
   "metadata": {},
   "outputs": [],
   "source": [
    "value_element = browser.find_element(By.ID, \"Crore\")\n",
    "value_element.click()"
   ]
  },
  {
   "cell_type": "code",
   "execution_count": 33,
   "id": "4eac68a3-0d28-488a-a25c-da2f8b9649db",
   "metadata": {},
   "outputs": [],
   "source": [
    "submit_element = browser.find_element(By.ID, \"Button1\")\n",
    "submit_element.click()"
   ]
  },
  {
   "cell_type": "code",
   "execution_count": 34,
   "id": "7766f9e7-4c3c-4e06-b1ed-1a95fa286ffb",
   "metadata": {},
   "outputs": [],
   "source": [
    "html_content = browser.page_source"
   ]
  },
  {
   "cell_type": "code",
   "execution_count": 37,
   "id": "f10955c7-829a-4043-a0e0-f8c21e421aef",
   "metadata": {},
   "outputs": [],
   "source": [
    "doc = BeautifulSoup(html_content, \"html.parser\")"
   ]
  },
  {
   "cell_type": "code",
   "execution_count": 53,
   "id": "61b31814-d884-49d8-99bd-8a89eeb07cd8",
   "metadata": {},
   "outputs": [],
   "source": [
    "table_element = doc.find_all(\"table\")"
   ]
  },
  {
   "cell_type": "code",
   "execution_count": 54,
   "id": "0f2d06d6-2649-4b80-95b8-d7c66cdedb6f",
   "metadata": {},
   "outputs": [
    {
     "data": {
      "text/plain": [
       "13"
      ]
     },
     "execution_count": 54,
     "metadata": {},
     "output_type": "execute_result"
    }
   ],
   "source": [
    "len(table_element)"
   ]
  },
  {
   "cell_type": "code",
   "execution_count": 55,
   "id": "9cbbbbd2-f62e-48ba-8d5f-1761f48410cf",
   "metadata": {},
   "outputs": [],
   "source": [
    "table = table_element[11]"
   ]
  },
  {
   "cell_type": "code",
   "execution_count": 57,
   "id": "73be9cfa-c3aa-4ca8-b17f-3ae3db8a2d94",
   "metadata": {},
   "outputs": [],
   "source": [
    "row_element = table.find_all(\"tr\")"
   ]
  },
  {
   "cell_type": "code",
   "execution_count": 58,
   "id": "92ba4828-6c13-48c3-9b1c-3b1277fc324a",
   "metadata": {},
   "outputs": [
    {
     "data": {
      "text/plain": [
       "46"
      ]
     },
     "execution_count": 58,
     "metadata": {},
     "output_type": "execute_result"
    }
   ],
   "source": [
    "len(row_element)"
   ]
  },
  {
   "cell_type": "code",
   "execution_count": 66,
   "id": "14ce8274-e6e2-4a73-82b3-a89cfec9893e",
   "metadata": {},
   "outputs": [
    {
     "data": {
      "text/plain": [
       "<tr align=\"center\" class=\"headerfooter\" style=\"background-color:#EFEFEF;\">\n",
       "<td style=\"width:200px;\">ProductName</td><td align=\"center\" style=\"width:110px;\">Qty</td><td align=\"center\" style=\"width:110px;\">Rs. Crore</td><td>Country</td>\n",
       "</tr>"
      ]
     },
     "execution_count": 66,
     "metadata": {},
     "output_type": "execute_result"
    }
   ],
   "source": [
    "row_element[1]"
   ]
  },
  {
   "cell_type": "code",
   "execution_count": 84,
   "id": "6f2f3a82-3e4f-40e6-8744-8fff10e80aa0",
   "metadata": {},
   "outputs": [
    {
     "data": {
      "text/plain": [
       "[<td align=\"left\" style=\"width:200px;\">NON BASMATI RICE</td>,\n",
       " <td align=\"right\">17786092.81</td>,\n",
       " <td align=\"right\">51088.72</td>]"
      ]
     },
     "execution_count": 84,
     "metadata": {},
     "output_type": "execute_result"
    }
   ],
   "source": [
    "row_element[2].find_all(\"td\")[:3]"
   ]
  },
  {
   "cell_type": "code",
   "execution_count": 85,
   "id": "70c09953-0d52-4ff6-98ee-6515975d31b9",
   "metadata": {},
   "outputs": [],
   "source": [
    "data = []\n",
    "for i in range(2, len(row_element)):\n",
    "    internal = []\n",
    "    elements = row_element[i].find_all(\"td\")[:3]\n",
    "    for j in range(0, len(elements)):\n",
    "        internal.append(elements[j].text)\n",
    "    data.append(internal)"
   ]
  },
  {
   "cell_type": "code",
   "execution_count": 86,
   "id": "0934ef47-a2a8-48e1-a1fe-ebffd037a8e7",
   "metadata": {},
   "outputs": [
    {
     "data": {
      "text/plain": [
       "44"
      ]
     },
     "execution_count": 86,
     "metadata": {},
     "output_type": "execute_result"
    }
   ],
   "source": [
    "len(data)"
   ]
  },
  {
   "cell_type": "code",
   "execution_count": 91,
   "id": "a74f59db-060d-4ac9-a9e5-5118c3ed6d0f",
   "metadata": {},
   "outputs": [
    {
     "data": {
      "text/plain": [
       "['NON BASMATI RICE', '17786092.81', '51088.72']"
      ]
     },
     "execution_count": 91,
     "metadata": {},
     "output_type": "execute_result"
    }
   ],
   "source": [
    "data[0]"
   ]
  },
  {
   "cell_type": "code",
   "execution_count": 100,
   "id": "7510bb2e-7edc-4485-bb7a-1356927abbdf",
   "metadata": {},
   "outputs": [
    {
     "data": {
      "text/html": [
       "<div>\n",
       "<style scoped>\n",
       "    .dataframe tbody tr th:only-of-type {\n",
       "        vertical-align: middle;\n",
       "    }\n",
       "\n",
       "    .dataframe tbody tr th {\n",
       "        vertical-align: top;\n",
       "    }\n",
       "\n",
       "    .dataframe thead th {\n",
       "        text-align: right;\n",
       "    }\n",
       "</style>\n",
       "<table border=\"1\" class=\"dataframe\">\n",
       "  <thead>\n",
       "    <tr style=\"text-align: right;\">\n",
       "      <th></th>\n",
       "      <th>Product Name</th>\n",
       "      <th>Qty(MT)</th>\n",
       "      <th>Rs(Crore)</th>\n",
       "    </tr>\n",
       "  </thead>\n",
       "  <tbody>\n",
       "    <tr>\n",
       "      <th>0</th>\n",
       "      <td>NON BASMATI RICE</td>\n",
       "      <td>17786092.81</td>\n",
       "      <td>51088.72</td>\n",
       "    </tr>\n",
       "    <tr>\n",
       "      <th>1</th>\n",
       "      <td>BASMATI RICE</td>\n",
       "      <td>4558972.23</td>\n",
       "      <td>38524.11</td>\n",
       "    </tr>\n",
       "    <tr>\n",
       "      <th>2</th>\n",
       "      <td>BUFFALO MEAT</td>\n",
       "      <td>1175869.13</td>\n",
       "      <td>25648.10</td>\n",
       "    </tr>\n",
       "    <tr>\n",
       "      <th>3</th>\n",
       "      <td>WHEAT</td>\n",
       "      <td>4693264.09</td>\n",
       "      <td>11826.90</td>\n",
       "    </tr>\n",
       "    <tr>\n",
       "      <th>4</th>\n",
       "      <td>MAIZE</td>\n",
       "      <td>3453680.58</td>\n",
       "      <td>8987.13</td>\n",
       "    </tr>\n",
       "    <tr>\n",
       "      <th>5</th>\n",
       "      <td>MISCELLANEOUS PREPARATIONS</td>\n",
       "      <td>826368.62</td>\n",
       "      <td>8889.12</td>\n",
       "    </tr>\n",
       "    <tr>\n",
       "      <th>6</th>\n",
       "      <td>GROUNDNUTS</td>\n",
       "      <td>668885.39</td>\n",
       "      <td>6735.25</td>\n",
       "    </tr>\n",
       "    <tr>\n",
       "      <th>7</th>\n",
       "      <td>CEREAL PREPARATIONS</td>\n",
       "      <td>480429.35</td>\n",
       "      <td>6051.51</td>\n",
       "    </tr>\n",
       "    <tr>\n",
       "      <th>8</th>\n",
       "      <td>PULSES</td>\n",
       "      <td>775024.48</td>\n",
       "      <td>5397.86</td>\n",
       "    </tr>\n",
       "    <tr>\n",
       "      <th>9</th>\n",
       "      <td>PROCESSED VEGETABLES</td>\n",
       "      <td>410415.99</td>\n",
       "      <td>4987.36</td>\n",
       "    </tr>\n",
       "    <tr>\n",
       "      <th>10</th>\n",
       "      <td>GUARGUM</td>\n",
       "      <td>406513.53</td>\n",
       "      <td>4944.60</td>\n",
       "    </tr>\n",
       "    <tr>\n",
       "      <th>11</th>\n",
       "      <td>PROCESSED FRUITS, JUICES &amp; NUTS</td>\n",
       "      <td>388207.95</td>\n",
       "      <td>4754.83</td>\n",
       "    </tr>\n",
       "    <tr>\n",
       "      <th>12</th>\n",
       "      <td>FRESH ONIONS</td>\n",
       "      <td>2525258.35</td>\n",
       "      <td>4522.79</td>\n",
       "    </tr>\n",
       "    <tr>\n",
       "      <th>13</th>\n",
       "      <td>JAGGERY &amp; CONFECTIONERY</td>\n",
       "      <td>761640.19</td>\n",
       "      <td>4330.07</td>\n",
       "    </tr>\n",
       "    <tr>\n",
       "      <th>14</th>\n",
       "      <td>PREPARED ANIMAL FEEDER</td>\n",
       "      <td>796242.90</td>\n",
       "      <td>3584.39</td>\n",
       "    </tr>\n",
       "    <tr>\n",
       "      <th>15</th>\n",
       "      <td>CASHEW KERNELS</td>\n",
       "      <td>59575.83</td>\n",
       "      <td>2868.72</td>\n",
       "    </tr>\n",
       "    <tr>\n",
       "      <th>16</th>\n",
       "      <td>OTHER FRESH FRUITS</td>\n",
       "      <td>674291.70</td>\n",
       "      <td>2736.99</td>\n",
       "    </tr>\n",
       "    <tr>\n",
       "      <th>17</th>\n",
       "      <td>ALCOHOLIC BEVERAGES</td>\n",
       "      <td>230903.47</td>\n",
       "      <td>2546.44</td>\n",
       "    </tr>\n",
       "    <tr>\n",
       "      <th>18</th>\n",
       "      <td>FRESH GRAPES</td>\n",
       "      <td>267950.39</td>\n",
       "      <td>2543.42</td>\n",
       "    </tr>\n",
       "    <tr>\n",
       "      <th>19</th>\n",
       "      <td>OTHER FRESH VEGETABLES</td>\n",
       "      <td>827288.05</td>\n",
       "      <td>2443.04</td>\n",
       "    </tr>\n",
       "    <tr>\n",
       "      <th>20</th>\n",
       "      <td>DAIRY PRODUCTS</td>\n",
       "      <td>67572.99</td>\n",
       "      <td>2269.85</td>\n",
       "    </tr>\n",
       "    <tr>\n",
       "      <th>21</th>\n",
       "      <td>MILLED PRODUCTS</td>\n",
       "      <td>629253.46</td>\n",
       "      <td>2223.94</td>\n",
       "    </tr>\n",
       "    <tr>\n",
       "      <th>22</th>\n",
       "      <td>CUCUMBER AND GHERKINS( PREPD. &amp;  PRESVD)</td>\n",
       "      <td>227699.04</td>\n",
       "      <td>1761.10</td>\n",
       "    </tr>\n",
       "    <tr>\n",
       "      <th>23</th>\n",
       "      <td>NATURAL HONEY</td>\n",
       "      <td>79929.17</td>\n",
       "      <td>1622.77</td>\n",
       "    </tr>\n",
       "    <tr>\n",
       "      <th>24</th>\n",
       "      <td>COCOA PRODUCTS</td>\n",
       "      <td>34249.85</td>\n",
       "      <td>1242.13</td>\n",
       "    </tr>\n",
       "    <tr>\n",
       "      <th>25</th>\n",
       "      <td>MANGO PULP</td>\n",
       "      <td>109501.38</td>\n",
       "      <td>1189.66</td>\n",
       "    </tr>\n",
       "    <tr>\n",
       "      <th>26</th>\n",
       "      <td>POULTRY PRODUCTS</td>\n",
       "      <td>664753.46</td>\n",
       "      <td>1081.62</td>\n",
       "    </tr>\n",
       "    <tr>\n",
       "      <th>27</th>\n",
       "      <td>OTHER OIL CAKE/SOLID RESDUS</td>\n",
       "      <td>583387.18</td>\n",
       "      <td>939.66</td>\n",
       "    </tr>\n",
       "    <tr>\n",
       "      <th>28</th>\n",
       "      <td>FRUITS &amp; VEGETABLES SEEDS</td>\n",
       "      <td>13605.72</td>\n",
       "      <td>827.13</td>\n",
       "    </tr>\n",
       "    <tr>\n",
       "      <th>29</th>\n",
       "      <td>CASEIN</td>\n",
       "      <td>8843.53</td>\n",
       "      <td>816.32</td>\n",
       "    </tr>\n",
       "    <tr>\n",
       "      <th>30</th>\n",
       "      <td>FLORICULTURE</td>\n",
       "      <td>21024.41</td>\n",
       "      <td>707.81</td>\n",
       "    </tr>\n",
       "    <tr>\n",
       "      <th>31</th>\n",
       "      <td>Millet</td>\n",
       "      <td>169049.21</td>\n",
       "      <td>608.11</td>\n",
       "    </tr>\n",
       "    <tr>\n",
       "      <th>32</th>\n",
       "      <td>SHEEP/GOAT MEAT</td>\n",
       "      <td>9592.31</td>\n",
       "      <td>537.18</td>\n",
       "    </tr>\n",
       "    <tr>\n",
       "      <th>33</th>\n",
       "      <td>OTHERS (BETEL LEAVES &amp; NUTS)</td>\n",
       "      <td>17205.45</td>\n",
       "      <td>534.73</td>\n",
       "    </tr>\n",
       "    <tr>\n",
       "      <th>34</th>\n",
       "      <td>FRESH MANGOES</td>\n",
       "      <td>22963.76</td>\n",
       "      <td>378.49</td>\n",
       "    </tr>\n",
       "    <tr>\n",
       "      <th>35</th>\n",
       "      <td>ANIMAL CASINGS</td>\n",
       "      <td>12577.04</td>\n",
       "      <td>326.02</td>\n",
       "    </tr>\n",
       "    <tr>\n",
       "      <th>36</th>\n",
       "      <td>ALBUMIN( Eggs &amp; Milk )</td>\n",
       "      <td>2219.94</td>\n",
       "      <td>266.88</td>\n",
       "    </tr>\n",
       "    <tr>\n",
       "      <th>37</th>\n",
       "      <td>CARDANOL</td>\n",
       "      <td>6607.05</td>\n",
       "      <td>57.08</td>\n",
       "    </tr>\n",
       "    <tr>\n",
       "      <th>38</th>\n",
       "      <td>CASHEWNUT SHELL LIQUID</td>\n",
       "      <td>10641.81</td>\n",
       "      <td>56.39</td>\n",
       "    </tr>\n",
       "    <tr>\n",
       "      <th>39</th>\n",
       "      <td>OTHER CEREALS</td>\n",
       "      <td>3801.18</td>\n",
       "      <td>27.40</td>\n",
       "    </tr>\n",
       "    <tr>\n",
       "      <th>40</th>\n",
       "      <td>WALNUTS</td>\n",
       "      <td>717.64</td>\n",
       "      <td>25.83</td>\n",
       "    </tr>\n",
       "    <tr>\n",
       "      <th>41</th>\n",
       "      <td>OTHER MEAT</td>\n",
       "      <td>701.80</td>\n",
       "      <td>16.93</td>\n",
       "    </tr>\n",
       "    <tr>\n",
       "      <th>42</th>\n",
       "      <td>PROCESSED MEAT</td>\n",
       "      <td>331.57</td>\n",
       "      <td>11.72</td>\n",
       "    </tr>\n",
       "    <tr>\n",
       "      <th>43</th>\n",
       "      <td>Total</td>\n",
       "      <td>44,463,103.98</td>\n",
       "      <td>220,940.10</td>\n",
       "    </tr>\n",
       "  </tbody>\n",
       "</table>\n",
       "</div>"
      ],
      "text/plain": [
       "                                Product Name        Qty(MT)   Rs(Crore)\n",
       "0                           NON BASMATI RICE    17786092.81    51088.72\n",
       "1                               BASMATI RICE     4558972.23    38524.11\n",
       "2                               BUFFALO MEAT     1175869.13    25648.10\n",
       "3                                      WHEAT     4693264.09    11826.90\n",
       "4                                      MAIZE     3453680.58     8987.13\n",
       "5                 MISCELLANEOUS PREPARATIONS      826368.62     8889.12\n",
       "6                                 GROUNDNUTS      668885.39     6735.25\n",
       "7                        CEREAL PREPARATIONS      480429.35     6051.51\n",
       "8                                     PULSES      775024.48     5397.86\n",
       "9                       PROCESSED VEGETABLES      410415.99     4987.36\n",
       "10                                   GUARGUM      406513.53     4944.60\n",
       "11           PROCESSED FRUITS, JUICES & NUTS      388207.95     4754.83\n",
       "12                              FRESH ONIONS     2525258.35     4522.79\n",
       "13                   JAGGERY & CONFECTIONERY      761640.19     4330.07\n",
       "14                    PREPARED ANIMAL FEEDER      796242.90     3584.39\n",
       "15                            CASHEW KERNELS       59575.83     2868.72\n",
       "16                        OTHER FRESH FRUITS      674291.70     2736.99\n",
       "17                       ALCOHOLIC BEVERAGES      230903.47     2546.44\n",
       "18                              FRESH GRAPES      267950.39     2543.42\n",
       "19                    OTHER FRESH VEGETABLES      827288.05     2443.04\n",
       "20                            DAIRY PRODUCTS       67572.99     2269.85\n",
       "21                           MILLED PRODUCTS      629253.46     2223.94\n",
       "22  CUCUMBER AND GHERKINS( PREPD. &  PRESVD)      227699.04     1761.10\n",
       "23                             NATURAL HONEY       79929.17     1622.77\n",
       "24                            COCOA PRODUCTS       34249.85     1242.13\n",
       "25                                MANGO PULP      109501.38     1189.66\n",
       "26                          POULTRY PRODUCTS      664753.46     1081.62\n",
       "27               OTHER OIL CAKE/SOLID RESDUS      583387.18      939.66\n",
       "28                 FRUITS & VEGETABLES SEEDS       13605.72      827.13\n",
       "29                                    CASEIN        8843.53      816.32\n",
       "30                              FLORICULTURE       21024.41      707.81\n",
       "31                                    Millet      169049.21      608.11\n",
       "32                           SHEEP/GOAT MEAT        9592.31      537.18\n",
       "33              OTHERS (BETEL LEAVES & NUTS)       17205.45      534.73\n",
       "34                             FRESH MANGOES       22963.76      378.49\n",
       "35                            ANIMAL CASINGS       12577.04      326.02\n",
       "36                    ALBUMIN( Eggs & Milk )        2219.94      266.88\n",
       "37                                  CARDANOL        6607.05       57.08\n",
       "38                    CASHEWNUT SHELL LIQUID       10641.81       56.39\n",
       "39                             OTHER CEREALS        3801.18       27.40\n",
       "40                                   WALNUTS         717.64       25.83\n",
       "41                                OTHER MEAT         701.80       16.93\n",
       "42                            PROCESSED MEAT         331.57       11.72\n",
       "43                                     Total  44,463,103.98  220,940.10"
      ]
     },
     "execution_count": 100,
     "metadata": {},
     "output_type": "execute_result"
    }
   ],
   "source": [
    "df = pd.DataFrame(data, columns = [\"Product Name\", \"Qty(MT)\", \"Rs(Crore)\"])\n",
    "df"
   ]
  },
  {
   "cell_type": "code",
   "execution_count": 105,
   "id": "4866c274-72d2-4518-890b-aec91d27d3cd",
   "metadata": {},
   "outputs": [],
   "source": [
    "df.to_csv(\"../../Datasets/Export/Export-Product-Wise/2022-23.csv\", index=None)"
   ]
  },
  {
   "cell_type": "code",
   "execution_count": 107,
   "id": "2f25ae37-5196-425f-981f-1216f19f37a5",
   "metadata": {},
   "outputs": [],
   "source": [
    "years = [\n",
    "    '1987-88', '1988-89', '1989-90', '1990-91', '1991-92', '1992-93', '1993-94', '1994-95', '1995-96', '1996-97',\n",
    "    '1997-98', '1998-99', '1999-00', '2000-01', '2001-02', '2002-03', '2003-04', '2004-05', '2005-06', '2006-07',\n",
    "    '2007-08', '2008-09', '2009-10', '2010-11', '2011-12', '2012-13', '2013-14', '2014-15', '2015-16', '2016-17',\n",
    "    '2017-18', '2018-19', '2019-20', '2020-21', '2021-22', '2022-23', '2023-24'\n",
    "]"
   ]
  },
  {
   "cell_type": "code",
   "execution_count": 112,
   "id": "d43ed59b-7f1b-45fd-9c69-615e343a137a",
   "metadata": {},
   "outputs": [],
   "source": [
    "folder_path = \"../../Datasets/Import/Import-Product-Wise\"\n",
    "for i in range(0, len(years)):\n",
    "    new_path = folder_path + f\"/{years[i]}\"\n",
    "    os.makedirs(new_path)"
   ]
  },
  {
   "cell_type": "code",
   "execution_count": 4,
   "id": "f2a10d31-3779-491b-ae5e-a72a8cf88316",
   "metadata": {},
   "outputs": [
    {
     "name": "stdout",
     "output_type": "stream",
     "text": [
      "Scrapping Data of year 2022-23\n"
     ]
    }
   ],
   "source": [
    "options = webdriver.ChromeOptions()\n",
    "options.add_argument(\"--headless\")\n",
    "browser = webdriver.Chrome(options=options)\n",
    "browser.get(\"https://agriexchange.apeda.gov.in/IndExp/PortNew.aspx\")\n",
    "print(f\"Scrapping Data of year 2022-23\")\n",
    "\n",
    "product_element = browser.find_element(By.ID, \"RBLSummary_4\")\n",
    "product_element.click()\n",
    "\n",
    "year_element = browser.find_element(By.ID, \"ListBoxYear\")\n",
    "year_dropdown = Select(year_element)\n",
    "year_dropdown.select_by_visible_text(\"2022-23\")\n",
    "\n",
    "value_element = browser.find_element(By.ID, \"Crore\")\n",
    "value_element.click()\n",
    "\n",
    "submit_element = browser.find_element(By.ID, \"Button1\")\n",
    "submit_element.click()\n",
    "\n",
    "html_content = browser.page_source\n",
    "doc = BeautifulSoup(html_content, \"html.parser\")\n",
    "\n",
    "table_element = doc.find_all(\"table\")\n",
    "table = table_element[11]\n",
    "row_element = table.find_all(\"tr\")\n",
    "\n",
    "data = []\n",
    "for i in range(2, len(row_element)):\n",
    "    internal = []\n",
    "    elements = row_element[i].find_all(\"td\")[:3]\n",
    "    for j in range(0, len(elements)):\n",
    "        internal.append(elements[j].text)\n",
    "    data.append(internal)\n",
    "\n",
    "df = pd.DataFrame(data, columns = [\"Product Name\", \"Qty(MT)\", \"Rs(Crore)\"])\n",
    "df\n",
    "\n",
    "browser.quit()"
   ]
  },
  {
   "cell_type": "code",
   "execution_count": 5,
   "id": "6cefc7bd-f4e2-428b-86bb-219ff8db1428",
   "metadata": {},
   "outputs": [
    {
     "data": {
      "text/plain": [
       "199"
      ]
     },
     "execution_count": 5,
     "metadata": {},
     "output_type": "execute_result"
    }
   ],
   "source": [
    "len(df)"
   ]
  },
  {
   "cell_type": "markdown",
   "id": "df1b094b-337d-4302-a6ad-fdf6db968334",
   "metadata": {},
   "source": [
    "### Trying Import Data Scraping"
   ]
  },
  {
   "cell_type": "code",
   "execution_count": 3,
   "id": "59444a4c-62ca-4925-944e-b01aca04abcb",
   "metadata": {},
   "outputs": [],
   "source": [
    "browser = webdriver.Chrome()\n",
    "browser.get(\"https://agriexchange.apeda.gov.in/importtoindia/genReport_combined.aspx\")"
   ]
  },
  {
   "cell_type": "code",
   "execution_count": 6,
   "id": "4a331960-0a89-42d2-8ba8-bb3599a81512",
   "metadata": {},
   "outputs": [],
   "source": [
    "product_element = browser.find_element(By.ID, \"RadioButtonList2_0\")\n",
    "product_element.click()"
   ]
  },
  {
   "cell_type": "code",
   "execution_count": 5,
   "id": "8f465b90-2a3a-4e69-92f9-0b4a2d78e803",
   "metadata": {},
   "outputs": [],
   "source": [
    "year_element = browser.find_element(By.ID, \"ListBoxYear\")\n",
    "year_dropdown = Select(year_element)\n",
    "year_dropdown.select_by_visible_text(\"2022-23\")"
   ]
  },
  {
   "cell_type": "code",
   "execution_count": 7,
   "id": "9b37625c-da98-407d-8ca2-11fc87a7a4ce",
   "metadata": {},
   "outputs": [],
   "source": [
    "country_element = browser.find_element(By.ID, \"ListBoxCountry\")\n",
    "country_dropdown = Select(country_element)\n",
    "country_dropdown.select_by_visible_text(\"All\")"
   ]
  },
  {
   "cell_type": "code",
   "execution_count": 8,
   "id": "7ced3249-d626-4d04-98ff-339a8380d33e",
   "metadata": {},
   "outputs": [],
   "source": [
    "value_element = browser.find_element(By.ID, \"Crore\")\n",
    "value_element.click()"
   ]
  },
  {
   "cell_type": "code",
   "execution_count": 9,
   "id": "f8b265e6-7c80-40a6-be53-e462bf9551af",
   "metadata": {},
   "outputs": [],
   "source": [
    "submit_element = browser.find_element(By.ID, \"Button1\")\n",
    "submit_element.click()"
   ]
  },
  {
   "cell_type": "code",
   "execution_count": 10,
   "id": "864fbfc7-56c1-4450-970f-20709eb38c68",
   "metadata": {},
   "outputs": [],
   "source": [
    "html_content = browser.page_source"
   ]
  },
  {
   "cell_type": "code",
   "execution_count": 11,
   "id": "e5e7f568-1827-4a68-8440-1b9d580eceb2",
   "metadata": {},
   "outputs": [],
   "source": [
    "doc = BeautifulSoup(html_content, \"html.parser\")"
   ]
  },
  {
   "cell_type": "code",
   "execution_count": 16,
   "id": "5ad50ba6-fcda-4c56-87b8-6828249c7f9b",
   "metadata": {},
   "outputs": [],
   "source": [
    "table_element = doc.find_all(\"table\")"
   ]
  },
  {
   "cell_type": "code",
   "execution_count": 17,
   "id": "9b3a8bfb-eee1-4b19-a4c7-ffe69e04ed4a",
   "metadata": {},
   "outputs": [
    {
     "data": {
      "text/plain": [
       "12"
      ]
     },
     "execution_count": 17,
     "metadata": {},
     "output_type": "execute_result"
    }
   ],
   "source": [
    "len(table_element)"
   ]
  },
  {
   "cell_type": "code",
   "execution_count": 20,
   "id": "35eb71a2-def9-4e91-9a4c-0bb4963e2f26",
   "metadata": {},
   "outputs": [],
   "source": [
    "table = table_element[10]"
   ]
  },
  {
   "cell_type": "code",
   "execution_count": 21,
   "id": "72dd9fce-6275-4b60-a994-9d6f07375686",
   "metadata": {},
   "outputs": [],
   "source": [
    "row_element = table.find_all(\"tr\")"
   ]
  },
  {
   "cell_type": "code",
   "execution_count": 23,
   "id": "c67162c6-c432-4673-88a6-d6b8927cd33d",
   "metadata": {},
   "outputs": [
    {
     "data": {
      "text/plain": [
       "41"
      ]
     },
     "execution_count": 23,
     "metadata": {},
     "output_type": "execute_result"
    }
   ],
   "source": [
    "len(row_element)"
   ]
  },
  {
   "cell_type": "code",
   "execution_count": 28,
   "id": "928bccfc-3046-44b3-95c9-7b785040bedc",
   "metadata": {},
   "outputs": [
    {
     "data": {
      "text/plain": [
       "<tr align=\"right\" style=\"font-size:9pt;\">\n",
       "<td align=\"left\" style=\"width:240px;\">Pulses</td><td>2529815.01</td><td>15985.85</td>\n",
       "</tr>"
      ]
     },
     "execution_count": 28,
     "metadata": {},
     "output_type": "execute_result"
    }
   ],
   "source": [
    "row_element[2]"
   ]
  },
  {
   "cell_type": "code",
   "execution_count": 29,
   "id": "e3daa850-6abe-4cf5-b085-9232ce2f00e9",
   "metadata": {},
   "outputs": [
    {
     "data": {
      "text/plain": [
       "[<td align=\"left\" style=\"width:240px;\">Pulses</td>,\n",
       " <td>2529815.01</td>,\n",
       " <td>15985.85</td>]"
      ]
     },
     "execution_count": 29,
     "metadata": {},
     "output_type": "execute_result"
    }
   ],
   "source": [
    "row_element[2].find_all(\"td\")"
   ]
  },
  {
   "cell_type": "code",
   "execution_count": 30,
   "id": "85987957-c6ee-4651-8eff-85b2216074bc",
   "metadata": {},
   "outputs": [],
   "source": [
    "data = []\n",
    "for i in range(2, len(row_element)):\n",
    "    internal = []\n",
    "    elements = row_element[i].find_all(\"td\")\n",
    "    for j in range(0, len(elements)):\n",
    "        internal.append(elements[j].text)\n",
    "    data.append(internal)"
   ]
  },
  {
   "cell_type": "code",
   "execution_count": 31,
   "id": "f2c8b77a-500a-44e1-9189-2eb5a769ab1c",
   "metadata": {},
   "outputs": [
    {
     "data": {
      "text/plain": [
       "['Pulses', '2529815.01', '15985.85']"
      ]
     },
     "execution_count": 31,
     "metadata": {},
     "output_type": "execute_result"
    }
   ],
   "source": [
    "data[0]"
   ]
  },
  {
   "cell_type": "code",
   "execution_count": 32,
   "id": "c70d87ac-c33e-406b-a638-317c21ddba30",
   "metadata": {},
   "outputs": [
    {
     "data": {
      "text/html": [
       "<div>\n",
       "<style scoped>\n",
       "    .dataframe tbody tr th:only-of-type {\n",
       "        vertical-align: middle;\n",
       "    }\n",
       "\n",
       "    .dataframe tbody tr th {\n",
       "        vertical-align: top;\n",
       "    }\n",
       "\n",
       "    .dataframe thead th {\n",
       "        text-align: right;\n",
       "    }\n",
       "</style>\n",
       "<table border=\"1\" class=\"dataframe\">\n",
       "  <thead>\n",
       "    <tr style=\"text-align: right;\">\n",
       "      <th></th>\n",
       "      <th>Product Name</th>\n",
       "      <th>Qty(MT)</th>\n",
       "      <th>Rs(Crore)</th>\n",
       "    </tr>\n",
       "  </thead>\n",
       "  <tbody>\n",
       "    <tr>\n",
       "      <th>0</th>\n",
       "      <td>Pulses</td>\n",
       "      <td>2529815.01</td>\n",
       "      <td>15985.85</td>\n",
       "    </tr>\n",
       "    <tr>\n",
       "      <th>1</th>\n",
       "      <td>Cashew Kernels</td>\n",
       "      <td>1332173.08</td>\n",
       "      <td>14369.51</td>\n",
       "    </tr>\n",
       "    <tr>\n",
       "      <th>2</th>\n",
       "      <td>Other Fresh Fruits</td>\n",
       "      <td>1116245.24</td>\n",
       "      <td>6870.62</td>\n",
       "    </tr>\n",
       "    <tr>\n",
       "      <th>3</th>\n",
       "      <td>Alcoholic Beverages</td>\n",
       "      <td>324285.63</td>\n",
       "      <td>6151.85</td>\n",
       "    </tr>\n",
       "    <tr>\n",
       "      <th>4</th>\n",
       "      <td>Miscellaneous Preparations</td>\n",
       "      <td>368619.64</td>\n",
       "      <td>3847.46</td>\n",
       "    </tr>\n",
       "    <tr>\n",
       "      <th>5</th>\n",
       "      <td>Cocoa Products</td>\n",
       "      <td>128654.28</td>\n",
       "      <td>3530.76</td>\n",
       "    </tr>\n",
       "    <tr>\n",
       "      <th>6</th>\n",
       "      <td>Prepared Animal Feeder</td>\n",
       "      <td>156017.98</td>\n",
       "      <td>3088.87</td>\n",
       "    </tr>\n",
       "    <tr>\n",
       "      <th>7</th>\n",
       "      <td>Others (Betel Leaves &amp; Nuts)</td>\n",
       "      <td>73982.65</td>\n",
       "      <td>2051.34</td>\n",
       "    </tr>\n",
       "    <tr>\n",
       "      <th>8</th>\n",
       "      <td>Processed Fruits, Juices &amp; Nuts</td>\n",
       "      <td>88217.86</td>\n",
       "      <td>1862.00</td>\n",
       "    </tr>\n",
       "    <tr>\n",
       "      <th>9</th>\n",
       "      <td>Cereal Preparations</td>\n",
       "      <td>107923.98</td>\n",
       "      <td>1711.03</td>\n",
       "    </tr>\n",
       "    <tr>\n",
       "      <th>10</th>\n",
       "      <td>Jaggery &amp; Confectionery</td>\n",
       "      <td>75502.95</td>\n",
       "      <td>1166.27</td>\n",
       "    </tr>\n",
       "    <tr>\n",
       "      <th>11</th>\n",
       "      <td>Fruits &amp; Vegetables Seeds</td>\n",
       "      <td>27351.48</td>\n",
       "      <td>1153.56</td>\n",
       "    </tr>\n",
       "    <tr>\n",
       "      <th>12</th>\n",
       "      <td>Albumin( Eggs &amp; Milk )</td>\n",
       "      <td>12461.69</td>\n",
       "      <td>1120.25</td>\n",
       "    </tr>\n",
       "    <tr>\n",
       "      <th>13</th>\n",
       "      <td>Other Cereals</td>\n",
       "      <td>288264.01</td>\n",
       "      <td>1057.78</td>\n",
       "    </tr>\n",
       "    <tr>\n",
       "      <th>14</th>\n",
       "      <td>Walnuts</td>\n",
       "      <td>37677.70</td>\n",
       "      <td>510.58</td>\n",
       "    </tr>\n",
       "    <tr>\n",
       "      <th>15</th>\n",
       "      <td>Dairy Products</td>\n",
       "      <td>13975.81</td>\n",
       "      <td>329.75</td>\n",
       "    </tr>\n",
       "    <tr>\n",
       "      <th>16</th>\n",
       "      <td>Processed Vegetables</td>\n",
       "      <td>24746.57</td>\n",
       "      <td>301.32</td>\n",
       "    </tr>\n",
       "    <tr>\n",
       "      <th>17</th>\n",
       "      <td>Floriculture</td>\n",
       "      <td>8895.17</td>\n",
       "      <td>285.21</td>\n",
       "    </tr>\n",
       "    <tr>\n",
       "      <th>18</th>\n",
       "      <td>Fresh Grapes</td>\n",
       "      <td>11992.87</td>\n",
       "      <td>130.87</td>\n",
       "    </tr>\n",
       "    <tr>\n",
       "      <th>19</th>\n",
       "      <td>Maize</td>\n",
       "      <td>16731.68</td>\n",
       "      <td>88.92</td>\n",
       "    </tr>\n",
       "    <tr>\n",
       "      <th>20</th>\n",
       "      <td>Casein</td>\n",
       "      <td>1007.54</td>\n",
       "      <td>85.30</td>\n",
       "    </tr>\n",
       "    <tr>\n",
       "      <th>21</th>\n",
       "      <td>Other Fresh Vegetables</td>\n",
       "      <td>20445.22</td>\n",
       "      <td>58.67</td>\n",
       "    </tr>\n",
       "    <tr>\n",
       "      <th>22</th>\n",
       "      <td>Wheat</td>\n",
       "      <td>13570.37</td>\n",
       "      <td>46.12</td>\n",
       "    </tr>\n",
       "    <tr>\n",
       "      <th>23</th>\n",
       "      <td>Non Basmati Rice</td>\n",
       "      <td>6711.06</td>\n",
       "      <td>43.99</td>\n",
       "    </tr>\n",
       "    <tr>\n",
       "      <th>24</th>\n",
       "      <td>Poultry Products</td>\n",
       "      <td>284.81</td>\n",
       "      <td>42.81</td>\n",
       "    </tr>\n",
       "    <tr>\n",
       "      <th>25</th>\n",
       "      <td>Other Meat</td>\n",
       "      <td>937.35</td>\n",
       "      <td>38.47</td>\n",
       "    </tr>\n",
       "    <tr>\n",
       "      <th>26</th>\n",
       "      <td>Natural Honey</td>\n",
       "      <td>914.22</td>\n",
       "      <td>29.39</td>\n",
       "    </tr>\n",
       "    <tr>\n",
       "      <th>27</th>\n",
       "      <td>Guargum</td>\n",
       "      <td>920.40</td>\n",
       "      <td>20.91</td>\n",
       "    </tr>\n",
       "    <tr>\n",
       "      <th>28</th>\n",
       "      <td>Milled Products</td>\n",
       "      <td>3871.58</td>\n",
       "      <td>20.28</td>\n",
       "    </tr>\n",
       "    <tr>\n",
       "      <th>29</th>\n",
       "      <td>Sheep/Goat Meat</td>\n",
       "      <td>215.80</td>\n",
       "      <td>17.24</td>\n",
       "    </tr>\n",
       "    <tr>\n",
       "      <th>30</th>\n",
       "      <td>Other Oil Cake/Solid Resdus</td>\n",
       "      <td>9053.02</td>\n",
       "      <td>15.29</td>\n",
       "    </tr>\n",
       "    <tr>\n",
       "      <th>31</th>\n",
       "      <td>Groundnuts</td>\n",
       "      <td>1203.11</td>\n",
       "      <td>12.87</td>\n",
       "    </tr>\n",
       "    <tr>\n",
       "      <th>32</th>\n",
       "      <td>Cashewnut Shell Liquid</td>\n",
       "      <td>3065.99</td>\n",
       "      <td>10.77</td>\n",
       "    </tr>\n",
       "    <tr>\n",
       "      <th>33</th>\n",
       "      <td>Processed Meat</td>\n",
       "      <td>46.05</td>\n",
       "      <td>2.74</td>\n",
       "    </tr>\n",
       "    <tr>\n",
       "      <th>34</th>\n",
       "      <td>Fresh Mangoes</td>\n",
       "      <td>62.40</td>\n",
       "      <td>1.79</td>\n",
       "    </tr>\n",
       "    <tr>\n",
       "      <th>35</th>\n",
       "      <td>Millet</td>\n",
       "      <td>293.12</td>\n",
       "      <td>1.17</td>\n",
       "    </tr>\n",
       "    <tr>\n",
       "      <th>36</th>\n",
       "      <td>Cucumber and Gherkins( Prepd. &amp;  Presvd)</td>\n",
       "      <td>100.04</td>\n",
       "      <td>1.06</td>\n",
       "    </tr>\n",
       "    <tr>\n",
       "      <th>37</th>\n",
       "      <td>Cardanol</td>\n",
       "      <td>0.50</td>\n",
       "      <td>0.37</td>\n",
       "    </tr>\n",
       "    <tr>\n",
       "      <th>38</th>\n",
       "      <td>Total</td>\n",
       "      <td>6,806,237.86</td>\n",
       "      <td>66,063.04</td>\n",
       "    </tr>\n",
       "  </tbody>\n",
       "</table>\n",
       "</div>"
      ],
      "text/plain": [
       "                                Product Name       Qty(MT)  Rs(Crore)\n",
       "0                                     Pulses    2529815.01   15985.85\n",
       "1                             Cashew Kernels    1332173.08   14369.51\n",
       "2                         Other Fresh Fruits    1116245.24    6870.62\n",
       "3                        Alcoholic Beverages     324285.63    6151.85\n",
       "4                 Miscellaneous Preparations     368619.64    3847.46\n",
       "5                             Cocoa Products     128654.28    3530.76\n",
       "6                     Prepared Animal Feeder     156017.98    3088.87\n",
       "7               Others (Betel Leaves & Nuts)      73982.65    2051.34\n",
       "8            Processed Fruits, Juices & Nuts      88217.86    1862.00\n",
       "9                        Cereal Preparations     107923.98    1711.03\n",
       "10                   Jaggery & Confectionery      75502.95    1166.27\n",
       "11                 Fruits & Vegetables Seeds      27351.48    1153.56\n",
       "12                    Albumin( Eggs & Milk )      12461.69    1120.25\n",
       "13                             Other Cereals     288264.01    1057.78\n",
       "14                                   Walnuts      37677.70     510.58\n",
       "15                            Dairy Products      13975.81     329.75\n",
       "16                      Processed Vegetables      24746.57     301.32\n",
       "17                              Floriculture       8895.17     285.21\n",
       "18                              Fresh Grapes      11992.87     130.87\n",
       "19                                     Maize      16731.68      88.92\n",
       "20                                    Casein       1007.54      85.30\n",
       "21                    Other Fresh Vegetables      20445.22      58.67\n",
       "22                                     Wheat      13570.37      46.12\n",
       "23                          Non Basmati Rice       6711.06      43.99\n",
       "24                          Poultry Products        284.81      42.81\n",
       "25                                Other Meat        937.35      38.47\n",
       "26                             Natural Honey        914.22      29.39\n",
       "27                                   Guargum        920.40      20.91\n",
       "28                           Milled Products       3871.58      20.28\n",
       "29                           Sheep/Goat Meat        215.80      17.24\n",
       "30               Other Oil Cake/Solid Resdus       9053.02      15.29\n",
       "31                                Groundnuts       1203.11      12.87\n",
       "32                    Cashewnut Shell Liquid       3065.99      10.77\n",
       "33                            Processed Meat         46.05       2.74\n",
       "34                             Fresh Mangoes         62.40       1.79\n",
       "35                                    Millet        293.12       1.17\n",
       "36  Cucumber and Gherkins( Prepd. &  Presvd)        100.04       1.06\n",
       "37                                  Cardanol          0.50       0.37\n",
       "38                                     Total  6,806,237.86  66,063.04"
      ]
     },
     "execution_count": 32,
     "metadata": {},
     "output_type": "execute_result"
    }
   ],
   "source": [
    "df = pd.DataFrame(data, columns=[\"Product Name\", \"Qty(MT)\", \"Rs(Crore)\"])\n",
    "df"
   ]
  },
  {
   "cell_type": "code",
   "execution_count": 35,
   "id": "028c566c-594b-46ec-8010-af95223a8061",
   "metadata": {},
   "outputs": [],
   "source": [
    "df.to_csv(\"../../Datasets/Import/Import-Product-Wise/2022-23.csv\", index=None)"
   ]
  }
 ],
 "metadata": {
  "kernelspec": {
   "display_name": "Python 3 (ipykernel)",
   "language": "python",
   "name": "python3"
  },
  "language_info": {
   "codemirror_mode": {
    "name": "ipython",
    "version": 3
   },
   "file_extension": ".py",
   "mimetype": "text/x-python",
   "name": "python",
   "nbconvert_exporter": "python",
   "pygments_lexer": "ipython3",
   "version": "3.11.5"
  }
 },
 "nbformat": 4,
 "nbformat_minor": 5
}
